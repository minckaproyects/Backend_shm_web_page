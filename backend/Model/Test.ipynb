{
 "cells": [
  {
   "cell_type": "code",
   "execution_count": 1,
   "metadata": {},
   "outputs": [],
   "source": [
    "import numpy as np\n",
    "import matplotlib.pyplot as plt\n",
    "import Function_SHM_HAILCREEK as FHK\n",
    "import BSDTA as  BS\n",
    "from scipy.optimize import minimize\n",
    "import psycopg2\n",
    "import pandas as pd"
   ]
  },
  {
   "cell_type": "code",
   "execution_count": 2,
   "metadata": {},
   "outputs": [],
   "source": [
    "#------------------------------ 1.  Integration Points -----------------------#\n",
    "N = 6\n",
    "#------------------------------ 2.  Number of modes --------------------------#\n",
    "Nm = 2\n",
    "#------------------------------ 2.  Flag identifier to load cases ------------#\n",
    "Ld =0\n",
    "#------------------------------ 3. Semirigid Connection ----------------------#\n",
    "# Semirigid Nodes\n",
    "NNI = []\n",
    "NNJ = []\n",
    "# Semirigid Material\n",
    "WW = []\n",
    "Ei = []\n",
    "# Flag 0 Run Zero length\n",
    "flag = 0\n",
    "#------------------------------ 4. Mass ---------------------------------------#\n",
    "# Mass in each column simulating the mass of the hopper\n",
    "Mo = 108333\n",
    "# Mass in each Bin\n",
    "MB1 = 0\n",
    "MB2 = 0\n",
    "# Mass Distribution\n",
    "Mass_Case = 1\n",
    "#------------------------------ 5.  Constants --------------------------------#\n",
    "gama,g=78.5*10**-6,9800.\n",
    "#------------------------------ 6. Intial Elastic Model ----------------------#\n",
    "# Elastic modules \n",
    "E,G = 200*10**3,0.25*10**3"
   ]
  },
  {
   "cell_type": "code",
   "execution_count": 3,
   "metadata": {},
   "outputs": [],
   "source": [
    "#------------------------------ 7. Data base results -------------------------#\n",
    "def get_data(Q1):\n",
    "    try:\n",
    "        con = psycopg2.connect(\n",
    "        host=\"db-shm-mincka.ckensqtixcpt.ap-southeast-2.rds.amazonaws.com\",\n",
    "        database='shm_hailcreek',\n",
    "        user='db_admin',\n",
    "        password='minckA.2020')\n",
    "\n",
    "    except psycopg2.DatabaseError as e:\n",
    "\n",
    "        print(f'Error {e}')\n",
    "        sys.exit(1)\n",
    "\n",
    "    cur = con.cursor()\n",
    "\n",
    "    query = f'''SELECT fre,dampopt,phi FROM \"modal_analysis_results\" WHERE date1='{Q1}';'''\n",
    "    Datao = pd.read_sql(query,con)\n",
    "    Datao.sort_values(by=['fre'], ascending=False,inplace = True)\n",
    "    data_numpy = Datao.to_numpy()\n",
    "    fre = data_numpy[:,0]\n",
    "    dampopt = data_numpy[:,1]\n",
    "    phi = np.array(Datao['phi'].values.tolist()).transpose()\n",
    "    return fre,dampopt,phi"
   ]
  },
  {
   "cell_type": "code",
   "execution_count": 4,
   "metadata": {},
   "outputs": [],
   "source": [
    "#------------------------------ 4. Mass ---------------------------------------#\n",
    "def Model_updating(N,Nm,E,G,Mbo,Mb1,Mb2,Mass_Case,Ld):\n",
    "    \n",
    "    Nodes, conect, idele,Members,Names = FHK.Topology() \n",
    "    masa = FHK.Hailcreek(Members,Nodes,conect,idele, E,Mbo,Ld,N,Names,flag,NNI,WW,Ei)\n",
    "    Ew = FHK.load_cases(Ld,conect,idele,Members,gama)\n",
    "    dist_b1,dist_b2 = FHK.mass_shapedistribution(Mass_Case)      \n",
    "    FHK.mass_distirbution(masa,Mbo,Mb1,Mb2,dist_b1,dist_b2)\n",
    "\n",
    "    freq,U_ops = FHK.Modal_analysis(Nm,0)\n",
    "    return np.array(freq)\n",
    "\n",
    "def opti(Freq,phi,N,Nm,E,G,Mbo,Mass_Case,Ld):\n",
    "    MB1 = 5\n",
    "    MB2 = 5\n",
    "    fun = lambda x: Model_updating(N,Nm,E,G,Mbo,10**x[0],10**x[1],Mass_Case,Ld)\n",
    "    def cost(Freq,x):\n",
    "        Freq = np.array(Freq)\n",
    "        cost = np.linalg.norm(Freq-fun(x))\n",
    "        return cost\n",
    "    x0 = [MB1,MB2]\n",
    "    fun2 = lambda x: cost(Freq,x)\n",
    "    res = minimize(fun2, x0)\n",
    "    return res.x"
   ]
  },
  {
   "cell_type": "code",
   "execution_count": 5,
   "metadata": {},
   "outputs": [],
   "source": [
    "from datetime import datetime, timedelta"
   ]
  },
  {
   "cell_type": "code",
   "execution_count": 6,
   "metadata": {},
   "outputs": [],
   "source": [
    "d1 = datetime(int(2020.), int(12.), int(30.), int(03.), int(35.), int(0.))"
   ]
  },
  {
   "cell_type": "code",
   "execution_count": 7,
   "metadata": {},
   "outputs": [],
   "source": [
    "fre,dampopt,phi = get_data(d1)"
   ]
  },
  {
   "cell_type": "code",
   "execution_count": 8,
   "metadata": {
    "scrolled": true
   },
   "outputs": [
    {
     "name": "stdout",
     "output_type": "stream",
     "text": [
      "CPU times: user 14.9 s, sys: 10.8 ms, total: 14.9 s\n",
      "Wall time: 15 s\n"
     ]
    }
   ],
   "source": [
    "%%time\n",
    "## Scale factor: change when the real structure is running.\n",
    "opt = opti(fre[:Nm]/30,phi[:,:Nm],N,Nm,E,G,Mo,Mass_Case,Ld)"
   ]
  },
  {
   "cell_type": "code",
   "execution_count": 9,
   "metadata": {},
   "outputs": [
    {
     "data": {
      "text/plain": [
       "array([5.80941836, 5.80941836])"
      ]
     },
     "execution_count": 9,
     "metadata": {},
     "output_type": "execute_result"
    }
   ],
   "source": [
    "opt"
   ]
  },
  {
   "cell_type": "code",
   "execution_count": 10,
   "metadata": {},
   "outputs": [
    {
     "name": "stdout",
     "output_type": "stream",
     "text": [
      "CPU times: user 34.2 ms, sys: 3.98 ms, total: 38.2 ms\n",
      "Wall time: 44.8 ms\n"
     ]
    }
   ],
   "source": [
    "%%time\n",
    "FHK.Drawing2database(Nm)"
   ]
  }
 ],
 "metadata": {
  "kernelspec": {
   "display_name": "Python 3",
   "language": "python",
   "name": "python3"
  },
  "language_info": {
   "codemirror_mode": {
    "name": "ipython",
    "version": 3
   },
   "file_extension": ".py",
   "mimetype": "text/x-python",
   "name": "python",
   "nbconvert_exporter": "python",
   "pygments_lexer": "ipython3",
   "version": "3.7.9"
  }
 },
 "nbformat": 4,
 "nbformat_minor": 4
}
